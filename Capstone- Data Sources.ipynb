{
    "cells": [
        {
            "cell_type": "markdown",
            "metadata": {
                "collapsed": true
            },
            "source": "## DATA SOURCES"
        },
        {
            "cell_type": "markdown",
            "metadata": {},
            "source": "### To solve the given Business Problem- we would need the following data:\n    1. List of neighborhoods in Mumbai, India. We can get this from wikipedia- https://en.wikipedia.org/wiki/List_of_neighbourhoods_in_Mumbai\n    2. List of Latitudes and Longitudes of the corresponding neighborhoods. These are required in order to plot them on the map for visualizations and also get the venue \n       data.\n    3. Venue data, particularly for coffee shops. We will use this data to perform clustering on neighborhoods. We can obtain this data using the **Foursquare API**"
        }
    ],
    "metadata": {
        "kernelspec": {
            "display_name": "Python 3.6",
            "language": "python",
            "name": "python3"
        },
        "language_info": {
            "codemirror_mode": {
                "name": "ipython",
                "version": 3
            },
            "file_extension": ".py",
            "mimetype": "text/x-python",
            "name": "python",
            "nbconvert_exporter": "python",
            "pygments_lexer": "ipython3",
            "version": "3.6.9"
        }
    },
    "nbformat": 4,
    "nbformat_minor": 1
}