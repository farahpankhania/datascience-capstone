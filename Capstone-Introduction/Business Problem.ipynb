{
    "cells": [
        {
            "cell_type": "markdown",
            "metadata": {
                "collapsed": true
            },
            "source": "## CAPSTONE PROJECT- Open a new Coffee Shop in Mumbai city, India"
        },
        {
            "cell_type": "markdown",
            "metadata": {},
            "source": "### Introduction"
        },
        {
            "cell_type": "markdown",
            "metadata": {},
            "source": "Coffee drinking is a big part of Indian food culture. For centuries past, coffee shops have played a big part in shaping communities by bringing people together and affording the space for a community to \u2018be a community\u2019.\n\nWhen you invest in a coffee shop franchise, you are essentially creating a location for your neighbors to meet and socialize, thus playing a crucial part in building a strong and close-knit community. They prove to be a form of a relaxation, entertainment and a hangout place for people of all ages. Thus, local budding entrepreneurs look forward to setting up and investing in a cafe shop.\n\nIn order for a cafe to profitable, there should be enough customers and to get enough customers, it is not beneficial to set up a cafe in the vicinty of the existing ones.\n\nAlso, the location of a cafe has a significant impact on the expected returns."
        },
        {
            "cell_type": "markdown",
            "metadata": {},
            "source": "### Business Problem"
        },
        {
            "cell_type": "markdown",
            "metadata": {},
            "source": "The main objective of this Capstone Project is to analyse and select the best location in Mumbai city to open a cafe. We will be using data science methodology and machine learning techniques to answer the following business problem- If a local entrpreneur/ investor wishes to open a coffee shop in the city of Mumbai, India; where would you recommend that they open it?"
        },
        {
            "cell_type": "markdown",
            "metadata": {},
            "source": "### Target Audience"
        },
        {
            "cell_type": "markdown",
            "metadata": {},
            "source": "Mumbai is the financial, commercial and entertainment capital of India. It is one of the biggest cities in India with a large population. Opening a cafe here would be beneficial to anyone who is a local entrepreneur/investors or who is looking forward to expand their businesses. \n"
        }
    ],
    "metadata": {
        "kernelspec": {
            "display_name": "Python 3.6",
            "language": "python",
            "name": "python3"
        },
        "language_info": {
            "codemirror_mode": {
                "name": "ipython",
                "version": 3
            },
            "file_extension": ".py",
            "mimetype": "text/x-python",
            "name": "python",
            "nbconvert_exporter": "python",
            "pygments_lexer": "ipython3",
            "version": "3.6.9"
        }
    },
    "nbformat": 4,
    "nbformat_minor": 1
}